{
 "cells": [
  {
   "cell_type": "code",
   "execution_count": 29,
   "outputs": [
    {
     "name": "stdout",
     "output_type": "stream",
     "text": [
      "1\n"
     ]
    }
   ],
   "source": [
    "import torch\n",
    "import os\n",
    "\n",
    "\n",
    "class Para:\n",
    "    feature_column_start_name = 'ep_ratio_ttm' # 'VOL5'\n",
    "    feature_column_end_name = 'BR' # 'AROON_DOWN'\n",
    "\n",
    "    feature_num = 16 # 8\n",
    "\n",
    "    device = torch.device(\"cuda:0\" if torch.cuda.is_available() else \"cpu\")\n",
    "\n",
    "    data_path = 'data/sk_space_1d_rate_20d_22-22_pre'\n",
    "    model_path = 'models/model_sk_c2_s0.1_b16_lr0.001_d0.5_e20.pth'\n",
    "\n",
    "    classification_n = 2\n",
    "\n",
    "    month_num = len(os.listdir(data_path))\n",
    "\n",
    "para = Para()\n",
    "print(para.month_num)"
   ],
   "metadata": {
    "collapsed": false,
    "pycharm": {
     "name": "#%%\n"
    }
   }
  },
  {
   "cell_type": "code",
   "execution_count": 30,
   "outputs": [],
   "source": [
    "import numpy as np\n",
    "import torch\n",
    "from my_utils.model_class import MLP\n",
    "import pandas as pd\n",
    "\n",
    "def insert_predict(df: pd.DataFrame, model_path, out_nums: int, column_name: str) -> pd.DataFrame:\n",
    "\n",
    "    # 加载模型\n",
    "    model = MLP(in_nums=para.feature_num, out_nums=out_nums, drop_p=0.5)\n",
    "    model.load_state_dict(torch.load(model_path, map_location=para.device))\n",
    "    model = model.to(para.device)\n",
    "\n",
    "    # 运算\n",
    "    model.eval()\n",
    "    predict_tensor = model(torch.Tensor(df.loc[:, para.feature_column_start_name: para.feature_column_end_name].values).to(device=para.device))\n",
    "\n",
    "    # 插入 predict_tensor 列\n",
    "    df.insert(loc=0, column='predict_tensor_'+column_name, value=np.nan)\n",
    "    # 插入 predict_return_bin 列\n",
    "    df.insert(loc=0, column='predict_return_bin_'+column_name, value=np.nan)\n",
    "\n",
    "    df['predict_tensor'+'_'+column_name] = predict_tensor.to(device='cpu').detach().numpy().tolist()\n",
    "    df['predict_return_bin'+'_'+column_name] = predict_tensor.to(device='cpu').detach().numpy().argmax(1)\n",
    "\n",
    "    return df"
   ],
   "metadata": {
    "collapsed": false,
    "pycharm": {
     "name": "#%%\n"
    }
   }
  },
  {
   "cell_type": "code",
   "execution_count": 31,
   "outputs": [
    {
     "data": {
      "text/plain": "              board_type sector_code  month        date  yield_rate  \\\norder_book_id                                                         \n600376.XSHG    MainBoard  RealEstate      0  2022-01-04    2.150414   \n600376.XSHG    MainBoard  RealEstate      1  2022-01-05    1.379074   \n600376.XSHG    MainBoard  RealEstate      2  2022-01-06    1.793948   \n600376.XSHG    MainBoard  RealEstate      3  2022-01-07    1.119903   \n600376.XSHG    MainBoard  RealEstate      4  2022-01-10    0.744371   \n600376.XSHG    MainBoard  RealEstate      5  2022-01-11   -0.262400   \n600376.XSHG    MainBoard  RealEstate      6  2022-01-12   -0.676498   \n600376.XSHG    MainBoard  RealEstate      7  2022-01-13   -0.985707   \n600376.XSHG    MainBoard  RealEstate      8  2022-01-14   -0.357573   \n600376.XSHG    MainBoard  RealEstate      9  2022-01-17   -0.072861   \n600376.XSHG    MainBoard  RealEstate     10  2022-01-18    0.057213   \n600376.XSHG    MainBoard  RealEstate     11  2022-01-19   -0.584246   \n600376.XSHG    MainBoard  RealEstate     12  2022-01-20   -0.673761   \n600376.XSHG    MainBoard  RealEstate     13  2022-01-21   -0.963158   \n600376.XSHG    MainBoard  RealEstate     14  2022-01-24   -0.995843   \n600376.XSHG    MainBoard  RealEstate     15  2022-01-25   -0.525035   \n600376.XSHG    MainBoard  RealEstate     16  2022-01-26   -0.194305   \n600376.XSHG    MainBoard  RealEstate     17  2022-01-27    0.657574   \n600376.XSHG    MainBoard  RealEstate     18  2022-01-28    1.113258   \n600376.XSHG    MainBoard  RealEstate     19  2022-02-07    1.341165   \n600376.XSHG    MainBoard  RealEstate     20  2022-02-08    0.223616   \n600376.XSHG    MainBoard  RealEstate     21  2022-02-09   -1.176921   \n600376.XSHG    MainBoard  RealEstate     22  2022-02-10   -1.212630   \n600376.XSHG    MainBoard  RealEstate     23  2022-02-11   -1.018455   \n600376.XSHG    MainBoard  RealEstate     24  2022-02-14   -0.773206   \n600376.XSHG    MainBoard  RealEstate     25  2022-02-15   -1.693159   \n600376.XSHG    MainBoard  RealEstate     26  2022-02-16   -0.925841   \n600376.XSHG    MainBoard  RealEstate     27  2022-02-17   -0.024376   \n600376.XSHG    MainBoard  RealEstate     28  2022-02-18    0.358615   \n600376.XSHG    MainBoard  RealEstate     29  2022-02-21    0.563503   \n600376.XSHG    MainBoard  RealEstate     30  2022-02-22    1.613323   \n\n               ep_ratio_ttm  pb_ratio_ttm  sp_ratio_ttm  MACD_DIFF  MACD_DEA  \\\norder_book_id                                                                  \n600376.XSHG        0.885993     -0.904836      0.885993   0.509815  0.371793   \n600376.XSHG        0.014344     -0.044409      0.014344   0.642553  0.409583   \n600376.XSHG        0.127999     -0.159133      0.127999   0.706257  0.457539   \n600376.XSHG       -0.487725      0.471847     -0.487725   0.826973  0.529490   \n600376.XSHG       -0.210673      0.185038     -0.210673   0.853349  0.594390   \n600376.XSHG       -0.974956      0.988103     -0.974956   0.968950  0.678474   \n600376.XSHG       -1.344069      1.389636     -1.344069   1.092924  0.780233   \n600376.XSHG       -1.551249      1.619083     -1.551249   1.196240  0.890387   \n600376.XSHG       -1.239467      1.274912     -1.239467   1.196175  0.978491   \n600376.XSHG       -1.134181      1.160188     -1.134181   1.149521  1.035994   \n600376.XSHG       -0.760199      0.758656     -0.760199   1.023889  1.047042   \n600376.XSHG       -1.081280      1.102827     -1.081280   0.949634  1.035221   \n600376.XSHG       -0.814154      0.816018     -0.814154   0.821859  0.990213   \n600376.XSHG       -0.867931      0.873379     -0.867931   0.705219  0.921754   \n600376.XSHG       -0.921531      0.930741     -0.921531   0.598633  0.837332   \n600376.XSHG       -0.210673      0.185038     -0.210673   0.380710  0.709162   \n600376.XSHG       -0.098544      0.070314     -0.098544   0.172664  0.548742   \n600376.XSHG        0.357640     -0.388580      0.357640  -0.076886  0.350973   \n600376.XSHG        0.357640     -0.388580      0.357640  -0.287293  0.134218   \n600376.XSHG        0.299936     -0.331218      0.299936  -0.456033 -0.086135   \n600376.XSHG       -0.266455      0.242400     -0.266455  -0.512788 -0.278208   \n600376.XSHG        0.014344     -0.044409      0.014344  -0.610187 -0.458966   \n600376.XSHG       -0.487725      0.471847     -0.487725  -0.617893 -0.605716   \n600376.XSHG       -0.098544      0.070314     -0.098544  -0.692870 -0.743977   \n600376.XSHG        0.767159     -0.790112      0.767159  -0.888512 -0.909019   \n600376.XSHG        1.616694     -1.593177      1.616694  -1.167862 -1.118776   \n600376.XSHG        1.930412     -1.879986      1.930412  -1.432194 -1.360126   \n600376.XSHG        2.249793     -2.166795      2.249793  -1.681747 -1.622638   \n600376.XSHG        1.492759     -1.478454      1.492759  -1.770644 -1.857382   \n600376.XSHG        1.126154     -1.134283      1.126154  -1.784271 -2.048969   \n600376.XSHG        1.308490     -1.306368      1.308490  -1.816186 -2.211118   \n\n               ...     RSI10        SY    BIAS20     VOL30     VOL60  \\\norder_book_id  ...                                                     \n600376.XSHG    ...  0.584014  0.563670  0.736664  0.589693  0.984890   \n600376.XSHG    ...  0.260424  1.395753  1.165683  0.777085  1.253139   \n600376.XSHG    ...  0.603361  1.395753  0.907695  0.847909  1.395975   \n600376.XSHG    ...  1.629346  1.395753  1.258799  0.960404  1.644152   \n600376.XSHG    ...  1.296049  1.395753  0.947061  1.039450  1.498971   \n600376.XSHG    ...  1.537822  1.395753  1.389042  1.155654  1.594796   \n600376.XSHG    ...  1.544884  1.395753  1.525159  1.316973  1.578428   \n600376.XSHG    ...  1.564968  1.395753  1.534517  1.368277  1.602327   \n600376.XSHG    ...  1.223820  1.395753  1.166906  1.325482  1.625601   \n600376.XSHG    ...  1.223820  0.563670  0.951968  1.307809  0.853988   \n600376.XSHG    ...  0.782996 -0.268414  0.557675  1.280732  0.053910   \n600376.XSHG    ...  0.603361  0.563670  0.731514  1.120164 -0.381011   \n600376.XSHG    ...  0.478812 -0.268414  0.458417  0.873664 -0.446273   \n600376.XSHG    ...  0.201341  0.563670  0.388487  0.262837 -0.644752   \n600376.XSHG    ...  0.460907  0.563670  0.323195 -0.257652 -0.725678   \n600376.XSHG    ... -0.629512 -0.268414 -0.264698 -0.416660 -0.973170   \n600376.XSHG    ... -1.096040 -1.100498 -0.406360 -0.432529 -0.967589   \n600376.XSHG    ... -1.513361 -1.100498 -0.762510 -0.349828 -0.861071   \n600376.XSHG    ... -1.424710 -1.100498 -0.794667 -0.321617 -0.725022   \n600376.XSHG    ... -1.311251 -0.268414 -0.793755 -0.300444 -0.581051   \n600376.XSHG    ... -0.464753 -0.268414 -0.445778 -0.334826 -0.447498   \n600376.XSHG    ... -0.980369 -0.268414 -0.638594 -0.729324 -0.417801   \n600376.XSHG    ... -0.313244 -0.268414 -0.312676 -0.959879 -0.505111   \n600376.XSHG    ... -0.588756 -1.100498 -0.569073 -1.144954 -0.867546   \n600376.XSHG    ... -0.967206 -1.100498 -1.115787 -1.148012 -0.896990   \n600376.XSHG    ... -0.984263 -1.100498 -1.574366 -1.185264 -0.882784   \n600376.XSHG    ... -1.032668 -1.100498 -1.664430 -1.259453 -0.798148   \n600376.XSHG    ... -0.984263 -1.100498 -1.738888 -1.300961 -0.755905   \n600376.XSHG    ... -0.544072 -1.100498 -1.178869 -1.322031 -0.676534   \n600376.XSHG    ... -0.396091 -1.100498 -0.866475 -1.332278 -0.730431   \n600376.XSHG    ... -0.765366 -1.100498 -0.915857 -1.430421 -0.801811   \n\n                 VOL120    VOLT20    VOLT60        AR        BR  \norder_book_id                                                    \n600376.XSHG   -2.406332  0.333570 -2.223795  0.653695  0.949237  \n600376.XSHG   -1.980971 -0.217059 -1.976358  1.509365  1.592895  \n600376.XSHG   -1.812021 -0.870438 -1.743586  1.467776  1.639934  \n600376.XSHG   -1.563709 -0.317418 -1.445352  1.725487  1.953677  \n600376.XSHG   -1.378603 -0.103479 -1.236502  0.736792  1.220539  \n600376.XSHG   -1.084856  0.373692 -0.953711  1.452116  1.654475  \n600376.XSHG   -0.818150  0.851443 -0.590917  1.362333  1.394781  \n600376.XSHG   -0.643695  1.282435 -0.223983  1.231482  1.078255  \n600376.XSHG   -0.468134  1.508347  0.080129  0.842428  0.758957  \n600376.XSHG   -0.295579  1.498436  0.264770  0.468502  0.108179  \n600376.XSHG   -0.135879  1.313098  0.490926  0.411963  0.092257  \n600376.XSHG    0.002836  1.476681  0.723295  0.566898  0.245306  \n600376.XSHG    0.137858  1.482915  0.881163  0.084403  0.175077  \n600376.XSHG    0.130396  1.211971  1.018999 -0.162964 -0.063968  \n600376.XSHG    0.081110  0.917887  1.160565 -0.379207 -0.181881  \n600376.XSHG    0.091117  0.422673  1.181928 -0.273252 -0.186718  \n600376.XSHG    0.240212 -0.015743  1.153391 -0.443216 -0.355882  \n600376.XSHG    0.363128 -0.459379  1.118965 -0.988962 -0.846650  \n600376.XSHG    0.489419 -0.772782  1.047846 -0.902515 -0.561099  \n600376.XSHG    0.639193 -1.212558  0.937696 -0.483302 -0.526809  \n600376.XSHG    0.758447 -1.522223  0.851380  0.244391 -0.391220  \n600376.XSHG    0.820934 -1.522223  0.704770 -0.025630 -0.378622  \n600376.XSHG    0.666038 -1.609007  0.588215  0.202318 -0.362101  \n600376.XSHG    0.796663 -1.568565  0.499691 -0.245819 -0.457714  \n600376.XSHG    0.893179 -1.302771  0.347182 -0.475169 -0.806794  \n600376.XSHG    0.920862 -0.757532  0.158071 -0.971126 -1.024736  \n600376.XSHG    1.044600 -0.325833 -0.057240 -1.057524 -1.021952  \n600376.XSHG    1.023901  0.001209 -0.298080 -1.546943 -1.406394  \n600376.XSHG    1.069980  0.031549 -0.556656 -1.532716 -1.306258  \n600376.XSHG    1.188085 -0.061869 -0.797017 -1.851073 -1.538930  \n600376.XSHG    1.229971 -0.067027 -1.105786 -1.620531 -1.445841  \n\n[31 rows x 21 columns]",
      "text/html": "<div>\n<style scoped>\n    .dataframe tbody tr th:only-of-type {\n        vertical-align: middle;\n    }\n\n    .dataframe tbody tr th {\n        vertical-align: top;\n    }\n\n    .dataframe thead th {\n        text-align: right;\n    }\n</style>\n<table border=\"1\" class=\"dataframe\">\n  <thead>\n    <tr style=\"text-align: right;\">\n      <th></th>\n      <th>board_type</th>\n      <th>sector_code</th>\n      <th>month</th>\n      <th>date</th>\n      <th>yield_rate</th>\n      <th>ep_ratio_ttm</th>\n      <th>pb_ratio_ttm</th>\n      <th>sp_ratio_ttm</th>\n      <th>MACD_DIFF</th>\n      <th>MACD_DEA</th>\n      <th>...</th>\n      <th>RSI10</th>\n      <th>SY</th>\n      <th>BIAS20</th>\n      <th>VOL30</th>\n      <th>VOL60</th>\n      <th>VOL120</th>\n      <th>VOLT20</th>\n      <th>VOLT60</th>\n      <th>AR</th>\n      <th>BR</th>\n    </tr>\n    <tr>\n      <th>order_book_id</th>\n      <th></th>\n      <th></th>\n      <th></th>\n      <th></th>\n      <th></th>\n      <th></th>\n      <th></th>\n      <th></th>\n      <th></th>\n      <th></th>\n      <th></th>\n      <th></th>\n      <th></th>\n      <th></th>\n      <th></th>\n      <th></th>\n      <th></th>\n      <th></th>\n      <th></th>\n      <th></th>\n      <th></th>\n    </tr>\n  </thead>\n  <tbody>\n    <tr>\n      <th>600376.XSHG</th>\n      <td>MainBoard</td>\n      <td>RealEstate</td>\n      <td>0</td>\n      <td>2022-01-04</td>\n      <td>2.150414</td>\n      <td>0.885993</td>\n      <td>-0.904836</td>\n      <td>0.885993</td>\n      <td>0.509815</td>\n      <td>0.371793</td>\n      <td>...</td>\n      <td>0.584014</td>\n      <td>0.563670</td>\n      <td>0.736664</td>\n      <td>0.589693</td>\n      <td>0.984890</td>\n      <td>-2.406332</td>\n      <td>0.333570</td>\n      <td>-2.223795</td>\n      <td>0.653695</td>\n      <td>0.949237</td>\n    </tr>\n    <tr>\n      <th>600376.XSHG</th>\n      <td>MainBoard</td>\n      <td>RealEstate</td>\n      <td>1</td>\n      <td>2022-01-05</td>\n      <td>1.379074</td>\n      <td>0.014344</td>\n      <td>-0.044409</td>\n      <td>0.014344</td>\n      <td>0.642553</td>\n      <td>0.409583</td>\n      <td>...</td>\n      <td>0.260424</td>\n      <td>1.395753</td>\n      <td>1.165683</td>\n      <td>0.777085</td>\n      <td>1.253139</td>\n      <td>-1.980971</td>\n      <td>-0.217059</td>\n      <td>-1.976358</td>\n      <td>1.509365</td>\n      <td>1.592895</td>\n    </tr>\n    <tr>\n      <th>600376.XSHG</th>\n      <td>MainBoard</td>\n      <td>RealEstate</td>\n      <td>2</td>\n      <td>2022-01-06</td>\n      <td>1.793948</td>\n      <td>0.127999</td>\n      <td>-0.159133</td>\n      <td>0.127999</td>\n      <td>0.706257</td>\n      <td>0.457539</td>\n      <td>...</td>\n      <td>0.603361</td>\n      <td>1.395753</td>\n      <td>0.907695</td>\n      <td>0.847909</td>\n      <td>1.395975</td>\n      <td>-1.812021</td>\n      <td>-0.870438</td>\n      <td>-1.743586</td>\n      <td>1.467776</td>\n      <td>1.639934</td>\n    </tr>\n    <tr>\n      <th>600376.XSHG</th>\n      <td>MainBoard</td>\n      <td>RealEstate</td>\n      <td>3</td>\n      <td>2022-01-07</td>\n      <td>1.119903</td>\n      <td>-0.487725</td>\n      <td>0.471847</td>\n      <td>-0.487725</td>\n      <td>0.826973</td>\n      <td>0.529490</td>\n      <td>...</td>\n      <td>1.629346</td>\n      <td>1.395753</td>\n      <td>1.258799</td>\n      <td>0.960404</td>\n      <td>1.644152</td>\n      <td>-1.563709</td>\n      <td>-0.317418</td>\n      <td>-1.445352</td>\n      <td>1.725487</td>\n      <td>1.953677</td>\n    </tr>\n    <tr>\n      <th>600376.XSHG</th>\n      <td>MainBoard</td>\n      <td>RealEstate</td>\n      <td>4</td>\n      <td>2022-01-10</td>\n      <td>0.744371</td>\n      <td>-0.210673</td>\n      <td>0.185038</td>\n      <td>-0.210673</td>\n      <td>0.853349</td>\n      <td>0.594390</td>\n      <td>...</td>\n      <td>1.296049</td>\n      <td>1.395753</td>\n      <td>0.947061</td>\n      <td>1.039450</td>\n      <td>1.498971</td>\n      <td>-1.378603</td>\n      <td>-0.103479</td>\n      <td>-1.236502</td>\n      <td>0.736792</td>\n      <td>1.220539</td>\n    </tr>\n    <tr>\n      <th>600376.XSHG</th>\n      <td>MainBoard</td>\n      <td>RealEstate</td>\n      <td>5</td>\n      <td>2022-01-11</td>\n      <td>-0.262400</td>\n      <td>-0.974956</td>\n      <td>0.988103</td>\n      <td>-0.974956</td>\n      <td>0.968950</td>\n      <td>0.678474</td>\n      <td>...</td>\n      <td>1.537822</td>\n      <td>1.395753</td>\n      <td>1.389042</td>\n      <td>1.155654</td>\n      <td>1.594796</td>\n      <td>-1.084856</td>\n      <td>0.373692</td>\n      <td>-0.953711</td>\n      <td>1.452116</td>\n      <td>1.654475</td>\n    </tr>\n    <tr>\n      <th>600376.XSHG</th>\n      <td>MainBoard</td>\n      <td>RealEstate</td>\n      <td>6</td>\n      <td>2022-01-12</td>\n      <td>-0.676498</td>\n      <td>-1.344069</td>\n      <td>1.389636</td>\n      <td>-1.344069</td>\n      <td>1.092924</td>\n      <td>0.780233</td>\n      <td>...</td>\n      <td>1.544884</td>\n      <td>1.395753</td>\n      <td>1.525159</td>\n      <td>1.316973</td>\n      <td>1.578428</td>\n      <td>-0.818150</td>\n      <td>0.851443</td>\n      <td>-0.590917</td>\n      <td>1.362333</td>\n      <td>1.394781</td>\n    </tr>\n    <tr>\n      <th>600376.XSHG</th>\n      <td>MainBoard</td>\n      <td>RealEstate</td>\n      <td>7</td>\n      <td>2022-01-13</td>\n      <td>-0.985707</td>\n      <td>-1.551249</td>\n      <td>1.619083</td>\n      <td>-1.551249</td>\n      <td>1.196240</td>\n      <td>0.890387</td>\n      <td>...</td>\n      <td>1.564968</td>\n      <td>1.395753</td>\n      <td>1.534517</td>\n      <td>1.368277</td>\n      <td>1.602327</td>\n      <td>-0.643695</td>\n      <td>1.282435</td>\n      <td>-0.223983</td>\n      <td>1.231482</td>\n      <td>1.078255</td>\n    </tr>\n    <tr>\n      <th>600376.XSHG</th>\n      <td>MainBoard</td>\n      <td>RealEstate</td>\n      <td>8</td>\n      <td>2022-01-14</td>\n      <td>-0.357573</td>\n      <td>-1.239467</td>\n      <td>1.274912</td>\n      <td>-1.239467</td>\n      <td>1.196175</td>\n      <td>0.978491</td>\n      <td>...</td>\n      <td>1.223820</td>\n      <td>1.395753</td>\n      <td>1.166906</td>\n      <td>1.325482</td>\n      <td>1.625601</td>\n      <td>-0.468134</td>\n      <td>1.508347</td>\n      <td>0.080129</td>\n      <td>0.842428</td>\n      <td>0.758957</td>\n    </tr>\n    <tr>\n      <th>600376.XSHG</th>\n      <td>MainBoard</td>\n      <td>RealEstate</td>\n      <td>9</td>\n      <td>2022-01-17</td>\n      <td>-0.072861</td>\n      <td>-1.134181</td>\n      <td>1.160188</td>\n      <td>-1.134181</td>\n      <td>1.149521</td>\n      <td>1.035994</td>\n      <td>...</td>\n      <td>1.223820</td>\n      <td>0.563670</td>\n      <td>0.951968</td>\n      <td>1.307809</td>\n      <td>0.853988</td>\n      <td>-0.295579</td>\n      <td>1.498436</td>\n      <td>0.264770</td>\n      <td>0.468502</td>\n      <td>0.108179</td>\n    </tr>\n    <tr>\n      <th>600376.XSHG</th>\n      <td>MainBoard</td>\n      <td>RealEstate</td>\n      <td>10</td>\n      <td>2022-01-18</td>\n      <td>0.057213</td>\n      <td>-0.760199</td>\n      <td>0.758656</td>\n      <td>-0.760199</td>\n      <td>1.023889</td>\n      <td>1.047042</td>\n      <td>...</td>\n      <td>0.782996</td>\n      <td>-0.268414</td>\n      <td>0.557675</td>\n      <td>1.280732</td>\n      <td>0.053910</td>\n      <td>-0.135879</td>\n      <td>1.313098</td>\n      <td>0.490926</td>\n      <td>0.411963</td>\n      <td>0.092257</td>\n    </tr>\n    <tr>\n      <th>600376.XSHG</th>\n      <td>MainBoard</td>\n      <td>RealEstate</td>\n      <td>11</td>\n      <td>2022-01-19</td>\n      <td>-0.584246</td>\n      <td>-1.081280</td>\n      <td>1.102827</td>\n      <td>-1.081280</td>\n      <td>0.949634</td>\n      <td>1.035221</td>\n      <td>...</td>\n      <td>0.603361</td>\n      <td>0.563670</td>\n      <td>0.731514</td>\n      <td>1.120164</td>\n      <td>-0.381011</td>\n      <td>0.002836</td>\n      <td>1.476681</td>\n      <td>0.723295</td>\n      <td>0.566898</td>\n      <td>0.245306</td>\n    </tr>\n    <tr>\n      <th>600376.XSHG</th>\n      <td>MainBoard</td>\n      <td>RealEstate</td>\n      <td>12</td>\n      <td>2022-01-20</td>\n      <td>-0.673761</td>\n      <td>-0.814154</td>\n      <td>0.816018</td>\n      <td>-0.814154</td>\n      <td>0.821859</td>\n      <td>0.990213</td>\n      <td>...</td>\n      <td>0.478812</td>\n      <td>-0.268414</td>\n      <td>0.458417</td>\n      <td>0.873664</td>\n      <td>-0.446273</td>\n      <td>0.137858</td>\n      <td>1.482915</td>\n      <td>0.881163</td>\n      <td>0.084403</td>\n      <td>0.175077</td>\n    </tr>\n    <tr>\n      <th>600376.XSHG</th>\n      <td>MainBoard</td>\n      <td>RealEstate</td>\n      <td>13</td>\n      <td>2022-01-21</td>\n      <td>-0.963158</td>\n      <td>-0.867931</td>\n      <td>0.873379</td>\n      <td>-0.867931</td>\n      <td>0.705219</td>\n      <td>0.921754</td>\n      <td>...</td>\n      <td>0.201341</td>\n      <td>0.563670</td>\n      <td>0.388487</td>\n      <td>0.262837</td>\n      <td>-0.644752</td>\n      <td>0.130396</td>\n      <td>1.211971</td>\n      <td>1.018999</td>\n      <td>-0.162964</td>\n      <td>-0.063968</td>\n    </tr>\n    <tr>\n      <th>600376.XSHG</th>\n      <td>MainBoard</td>\n      <td>RealEstate</td>\n      <td>14</td>\n      <td>2022-01-24</td>\n      <td>-0.995843</td>\n      <td>-0.921531</td>\n      <td>0.930741</td>\n      <td>-0.921531</td>\n      <td>0.598633</td>\n      <td>0.837332</td>\n      <td>...</td>\n      <td>0.460907</td>\n      <td>0.563670</td>\n      <td>0.323195</td>\n      <td>-0.257652</td>\n      <td>-0.725678</td>\n      <td>0.081110</td>\n      <td>0.917887</td>\n      <td>1.160565</td>\n      <td>-0.379207</td>\n      <td>-0.181881</td>\n    </tr>\n    <tr>\n      <th>600376.XSHG</th>\n      <td>MainBoard</td>\n      <td>RealEstate</td>\n      <td>15</td>\n      <td>2022-01-25</td>\n      <td>-0.525035</td>\n      <td>-0.210673</td>\n      <td>0.185038</td>\n      <td>-0.210673</td>\n      <td>0.380710</td>\n      <td>0.709162</td>\n      <td>...</td>\n      <td>-0.629512</td>\n      <td>-0.268414</td>\n      <td>-0.264698</td>\n      <td>-0.416660</td>\n      <td>-0.973170</td>\n      <td>0.091117</td>\n      <td>0.422673</td>\n      <td>1.181928</td>\n      <td>-0.273252</td>\n      <td>-0.186718</td>\n    </tr>\n    <tr>\n      <th>600376.XSHG</th>\n      <td>MainBoard</td>\n      <td>RealEstate</td>\n      <td>16</td>\n      <td>2022-01-26</td>\n      <td>-0.194305</td>\n      <td>-0.098544</td>\n      <td>0.070314</td>\n      <td>-0.098544</td>\n      <td>0.172664</td>\n      <td>0.548742</td>\n      <td>...</td>\n      <td>-1.096040</td>\n      <td>-1.100498</td>\n      <td>-0.406360</td>\n      <td>-0.432529</td>\n      <td>-0.967589</td>\n      <td>0.240212</td>\n      <td>-0.015743</td>\n      <td>1.153391</td>\n      <td>-0.443216</td>\n      <td>-0.355882</td>\n    </tr>\n    <tr>\n      <th>600376.XSHG</th>\n      <td>MainBoard</td>\n      <td>RealEstate</td>\n      <td>17</td>\n      <td>2022-01-27</td>\n      <td>0.657574</td>\n      <td>0.357640</td>\n      <td>-0.388580</td>\n      <td>0.357640</td>\n      <td>-0.076886</td>\n      <td>0.350973</td>\n      <td>...</td>\n      <td>-1.513361</td>\n      <td>-1.100498</td>\n      <td>-0.762510</td>\n      <td>-0.349828</td>\n      <td>-0.861071</td>\n      <td>0.363128</td>\n      <td>-0.459379</td>\n      <td>1.118965</td>\n      <td>-0.988962</td>\n      <td>-0.846650</td>\n    </tr>\n    <tr>\n      <th>600376.XSHG</th>\n      <td>MainBoard</td>\n      <td>RealEstate</td>\n      <td>18</td>\n      <td>2022-01-28</td>\n      <td>1.113258</td>\n      <td>0.357640</td>\n      <td>-0.388580</td>\n      <td>0.357640</td>\n      <td>-0.287293</td>\n      <td>0.134218</td>\n      <td>...</td>\n      <td>-1.424710</td>\n      <td>-1.100498</td>\n      <td>-0.794667</td>\n      <td>-0.321617</td>\n      <td>-0.725022</td>\n      <td>0.489419</td>\n      <td>-0.772782</td>\n      <td>1.047846</td>\n      <td>-0.902515</td>\n      <td>-0.561099</td>\n    </tr>\n    <tr>\n      <th>600376.XSHG</th>\n      <td>MainBoard</td>\n      <td>RealEstate</td>\n      <td>19</td>\n      <td>2022-02-07</td>\n      <td>1.341165</td>\n      <td>0.299936</td>\n      <td>-0.331218</td>\n      <td>0.299936</td>\n      <td>-0.456033</td>\n      <td>-0.086135</td>\n      <td>...</td>\n      <td>-1.311251</td>\n      <td>-0.268414</td>\n      <td>-0.793755</td>\n      <td>-0.300444</td>\n      <td>-0.581051</td>\n      <td>0.639193</td>\n      <td>-1.212558</td>\n      <td>0.937696</td>\n      <td>-0.483302</td>\n      <td>-0.526809</td>\n    </tr>\n    <tr>\n      <th>600376.XSHG</th>\n      <td>MainBoard</td>\n      <td>RealEstate</td>\n      <td>20</td>\n      <td>2022-02-08</td>\n      <td>0.223616</td>\n      <td>-0.266455</td>\n      <td>0.242400</td>\n      <td>-0.266455</td>\n      <td>-0.512788</td>\n      <td>-0.278208</td>\n      <td>...</td>\n      <td>-0.464753</td>\n      <td>-0.268414</td>\n      <td>-0.445778</td>\n      <td>-0.334826</td>\n      <td>-0.447498</td>\n      <td>0.758447</td>\n      <td>-1.522223</td>\n      <td>0.851380</td>\n      <td>0.244391</td>\n      <td>-0.391220</td>\n    </tr>\n    <tr>\n      <th>600376.XSHG</th>\n      <td>MainBoard</td>\n      <td>RealEstate</td>\n      <td>21</td>\n      <td>2022-02-09</td>\n      <td>-1.176921</td>\n      <td>0.014344</td>\n      <td>-0.044409</td>\n      <td>0.014344</td>\n      <td>-0.610187</td>\n      <td>-0.458966</td>\n      <td>...</td>\n      <td>-0.980369</td>\n      <td>-0.268414</td>\n      <td>-0.638594</td>\n      <td>-0.729324</td>\n      <td>-0.417801</td>\n      <td>0.820934</td>\n      <td>-1.522223</td>\n      <td>0.704770</td>\n      <td>-0.025630</td>\n      <td>-0.378622</td>\n    </tr>\n    <tr>\n      <th>600376.XSHG</th>\n      <td>MainBoard</td>\n      <td>RealEstate</td>\n      <td>22</td>\n      <td>2022-02-10</td>\n      <td>-1.212630</td>\n      <td>-0.487725</td>\n      <td>0.471847</td>\n      <td>-0.487725</td>\n      <td>-0.617893</td>\n      <td>-0.605716</td>\n      <td>...</td>\n      <td>-0.313244</td>\n      <td>-0.268414</td>\n      <td>-0.312676</td>\n      <td>-0.959879</td>\n      <td>-0.505111</td>\n      <td>0.666038</td>\n      <td>-1.609007</td>\n      <td>0.588215</td>\n      <td>0.202318</td>\n      <td>-0.362101</td>\n    </tr>\n    <tr>\n      <th>600376.XSHG</th>\n      <td>MainBoard</td>\n      <td>RealEstate</td>\n      <td>23</td>\n      <td>2022-02-11</td>\n      <td>-1.018455</td>\n      <td>-0.098544</td>\n      <td>0.070314</td>\n      <td>-0.098544</td>\n      <td>-0.692870</td>\n      <td>-0.743977</td>\n      <td>...</td>\n      <td>-0.588756</td>\n      <td>-1.100498</td>\n      <td>-0.569073</td>\n      <td>-1.144954</td>\n      <td>-0.867546</td>\n      <td>0.796663</td>\n      <td>-1.568565</td>\n      <td>0.499691</td>\n      <td>-0.245819</td>\n      <td>-0.457714</td>\n    </tr>\n    <tr>\n      <th>600376.XSHG</th>\n      <td>MainBoard</td>\n      <td>RealEstate</td>\n      <td>24</td>\n      <td>2022-02-14</td>\n      <td>-0.773206</td>\n      <td>0.767159</td>\n      <td>-0.790112</td>\n      <td>0.767159</td>\n      <td>-0.888512</td>\n      <td>-0.909019</td>\n      <td>...</td>\n      <td>-0.967206</td>\n      <td>-1.100498</td>\n      <td>-1.115787</td>\n      <td>-1.148012</td>\n      <td>-0.896990</td>\n      <td>0.893179</td>\n      <td>-1.302771</td>\n      <td>0.347182</td>\n      <td>-0.475169</td>\n      <td>-0.806794</td>\n    </tr>\n    <tr>\n      <th>600376.XSHG</th>\n      <td>MainBoard</td>\n      <td>RealEstate</td>\n      <td>25</td>\n      <td>2022-02-15</td>\n      <td>-1.693159</td>\n      <td>1.616694</td>\n      <td>-1.593177</td>\n      <td>1.616694</td>\n      <td>-1.167862</td>\n      <td>-1.118776</td>\n      <td>...</td>\n      <td>-0.984263</td>\n      <td>-1.100498</td>\n      <td>-1.574366</td>\n      <td>-1.185264</td>\n      <td>-0.882784</td>\n      <td>0.920862</td>\n      <td>-0.757532</td>\n      <td>0.158071</td>\n      <td>-0.971126</td>\n      <td>-1.024736</td>\n    </tr>\n    <tr>\n      <th>600376.XSHG</th>\n      <td>MainBoard</td>\n      <td>RealEstate</td>\n      <td>26</td>\n      <td>2022-02-16</td>\n      <td>-0.925841</td>\n      <td>1.930412</td>\n      <td>-1.879986</td>\n      <td>1.930412</td>\n      <td>-1.432194</td>\n      <td>-1.360126</td>\n      <td>...</td>\n      <td>-1.032668</td>\n      <td>-1.100498</td>\n      <td>-1.664430</td>\n      <td>-1.259453</td>\n      <td>-0.798148</td>\n      <td>1.044600</td>\n      <td>-0.325833</td>\n      <td>-0.057240</td>\n      <td>-1.057524</td>\n      <td>-1.021952</td>\n    </tr>\n    <tr>\n      <th>600376.XSHG</th>\n      <td>MainBoard</td>\n      <td>RealEstate</td>\n      <td>27</td>\n      <td>2022-02-17</td>\n      <td>-0.024376</td>\n      <td>2.249793</td>\n      <td>-2.166795</td>\n      <td>2.249793</td>\n      <td>-1.681747</td>\n      <td>-1.622638</td>\n      <td>...</td>\n      <td>-0.984263</td>\n      <td>-1.100498</td>\n      <td>-1.738888</td>\n      <td>-1.300961</td>\n      <td>-0.755905</td>\n      <td>1.023901</td>\n      <td>0.001209</td>\n      <td>-0.298080</td>\n      <td>-1.546943</td>\n      <td>-1.406394</td>\n    </tr>\n    <tr>\n      <th>600376.XSHG</th>\n      <td>MainBoard</td>\n      <td>RealEstate</td>\n      <td>28</td>\n      <td>2022-02-18</td>\n      <td>0.358615</td>\n      <td>1.492759</td>\n      <td>-1.478454</td>\n      <td>1.492759</td>\n      <td>-1.770644</td>\n      <td>-1.857382</td>\n      <td>...</td>\n      <td>-0.544072</td>\n      <td>-1.100498</td>\n      <td>-1.178869</td>\n      <td>-1.322031</td>\n      <td>-0.676534</td>\n      <td>1.069980</td>\n      <td>0.031549</td>\n      <td>-0.556656</td>\n      <td>-1.532716</td>\n      <td>-1.306258</td>\n    </tr>\n    <tr>\n      <th>600376.XSHG</th>\n      <td>MainBoard</td>\n      <td>RealEstate</td>\n      <td>29</td>\n      <td>2022-02-21</td>\n      <td>0.563503</td>\n      <td>1.126154</td>\n      <td>-1.134283</td>\n      <td>1.126154</td>\n      <td>-1.784271</td>\n      <td>-2.048969</td>\n      <td>...</td>\n      <td>-0.396091</td>\n      <td>-1.100498</td>\n      <td>-0.866475</td>\n      <td>-1.332278</td>\n      <td>-0.730431</td>\n      <td>1.188085</td>\n      <td>-0.061869</td>\n      <td>-0.797017</td>\n      <td>-1.851073</td>\n      <td>-1.538930</td>\n    </tr>\n    <tr>\n      <th>600376.XSHG</th>\n      <td>MainBoard</td>\n      <td>RealEstate</td>\n      <td>30</td>\n      <td>2022-02-22</td>\n      <td>1.613323</td>\n      <td>1.308490</td>\n      <td>-1.306368</td>\n      <td>1.308490</td>\n      <td>-1.816186</td>\n      <td>-2.211118</td>\n      <td>...</td>\n      <td>-0.765366</td>\n      <td>-1.100498</td>\n      <td>-0.915857</td>\n      <td>-1.430421</td>\n      <td>-0.801811</td>\n      <td>1.229971</td>\n      <td>-0.067027</td>\n      <td>-1.105786</td>\n      <td>-1.620531</td>\n      <td>-1.445841</td>\n    </tr>\n  </tbody>\n</table>\n<p>31 rows × 21 columns</p>\n</div>"
     },
     "execution_count": 31,
     "metadata": {},
     "output_type": "execute_result"
    }
   ],
   "source": [
    "df = pd.DataFrame()\n",
    "\n",
    "for i_csv in range(para.month_num):\n",
    "    df = pd.read_csv(para.data_path +'/' + str(i_csv) + '.csv', index_col='order_book_id')\n",
    "\n",
    "df"
   ],
   "metadata": {
    "collapsed": false,
    "pycharm": {
     "name": "#%%\n"
    }
   }
  },
  {
   "cell_type": "code",
   "execution_count": 32,
   "outputs": [
    {
     "name": "stdout",
     "output_type": "stream",
     "text": [
      "tensor([0, 0, 0, 0, 0, 0, 0, 0, 0, 0, 0, 0, 0, 0, 0, 1, 1, 1, 1, 1, 1, 1, 1, 1,\n",
      "        1, 1, 1, 1, 1, 1, 1])\n",
      "tensor([1, 1, 1, 1, 1, 1, 0, 1, 0, 0, 0, 0, 1, 0, 0, 1, 0, 0, 0, 0, 1, 1, 1, 0,\n",
      "        1, 1, 1, 0, 1, 1, 1])\n",
      "tensor([0.4667, 0.6250])\n",
      "tensor(0.5484)\n",
      "0    7\n",
      "1    6\n",
      "Name: predict_return_bin, dtype: int64\n",
      "1    18\n",
      "0    13\n",
      "Name: return_bin, dtype: int64\n"
     ]
    }
   ],
   "source": [
    "import torchmetrics\n",
    "import time\n",
    "import matplotlib.pyplot as plt\n",
    "import torch.nn.functional as F\n",
    "\n",
    "precision = torchmetrics.Precision(average='none', num_classes=para.classification_n)\n",
    "accuracy = torchmetrics.Accuracy()\n",
    "\n",
    "# 插入预测数据\n",
    "df = insert_predict(df=df, model_path=para.model_path, out_nums=para.classification_n, column_name='2c')\n",
    "\n",
    "# 综合多个预测数据\n",
    "df.insert(loc=0, column='predict_return_bin', value=np.nan)\n",
    "df.loc[df['predict_return_bin_2c'].isin([0,]), 'predict_return_bin'] = 0\n",
    "df['predict_return_bin'].replace(to_replace=np.nan, value=1, inplace=True)\n",
    "df['predict_return_bin'] = df['predict_return_bin'].astype('int64')\n",
    "\n",
    "df.insert(loc=0, column='probability', value=np.nan)\n",
    "for stock_id in range(len(df.index)):\n",
    "    df.iloc[stock_id, 0] = F.softmax(torch.tensor(df.iloc[stock_id, df.columns.get_loc('predict_tensor_2c')]), dim=0).numpy()[0]\n",
    "\n",
    "# 插入实际 return_bin 列\n",
    "df.insert(loc=0, column='return_bin', value=np.nan)\n",
    "df.loc[df['yield_rate'] > 0.0, 'return_bin'] = 0\n",
    "df['return_bin'].replace(to_replace=np.nan, value=1, inplace=True)\n",
    "df['return_bin'] = df['return_bin'].astype('int64')\n",
    "\n",
    "# 计算精确率\n",
    "df = df.sort_values(by='probability', ascending=False)\n",
    "\n",
    "pred = torch.tensor(df['predict_return_bin']).type(torch.LongTensor)\n",
    "target = torch.tensor(df['return_bin']).type(torch.LongTensor)\n",
    "\n",
    "print(pred)\n",
    "print(target)\n",
    "\n",
    "print(precision(preds=pred, target=target))\n",
    "print(accuracy(preds=pred, target=target))\n",
    "\n",
    "print(df.loc[df['yield_rate']>0.0, 'predict_return_bin'].value_counts())\n",
    "print(df['return_bin'].value_counts())"
   ],
   "metadata": {
    "collapsed": false,
    "pycharm": {
     "name": "#%%\n"
    }
   }
  },
  {
   "cell_type": "code",
   "execution_count": 33,
   "outputs": [
    {
     "name": "stderr",
     "output_type": "stream",
     "text": [
      "c:\\users\\millet\\miniconda3\\envs\\torch1.8-gpu\\lib\\site-packages\\rqdatac\\client.py:197: UserWarning: rqdatac is already inited. Settings will be changed.\n",
      "  warnings.warn(\"rqdatac is already inited. Settings will be changed.\", stacklevel=0)\n"
     ]
    },
    {
     "ename": "PermissionDenied",
     "evalue": "this license is only allowed to access through the education network",
     "output_type": "error",
     "traceback": [
      "\u001B[1;31m---------------------------------------------------------------------------\u001B[0m",
      "\u001B[1;31mPermissionDenied\u001B[0m                          Traceback (most recent call last)",
      "\u001B[1;32m~\\AppData\\Local\\Temp/ipykernel_18220/2328203900.py\u001B[0m in \u001B[0;36m<module>\u001B[1;34m\u001B[0m\n\u001B[0;32m      3\u001B[0m \u001B[1;33m\u001B[0m\u001B[0m\n\u001B[0;32m      4\u001B[0m \u001B[0mrqdatac\u001B[0m\u001B[1;33m.\u001B[0m\u001B[0minit\u001B[0m\u001B[1;33m(\u001B[0m\u001B[1;33m)\u001B[0m\u001B[1;33m\u001B[0m\u001B[1;33m\u001B[0m\u001B[0m\n\u001B[1;32m----> 5\u001B[1;33m \u001B[0mhs300_df\u001B[0m \u001B[1;33m=\u001B[0m \u001B[0mget_price\u001B[0m\u001B[1;33m(\u001B[0m\u001B[0morder_book_ids\u001B[0m\u001B[1;33m=\u001B[0m\u001B[1;34m'000300.XSHG'\u001B[0m\u001B[1;33m,\u001B[0m \u001B[0mstart_date\u001B[0m\u001B[1;33m=\u001B[0m\u001B[1;34m'2022-01-01'\u001B[0m\u001B[1;33m,\u001B[0m \u001B[0mend_date\u001B[0m\u001B[1;33m=\u001B[0m\u001B[1;34m'2022-03-22'\u001B[0m\u001B[1;33m,\u001B[0m \u001B[0mfields\u001B[0m\u001B[1;33m=\u001B[0m\u001B[1;34m'close'\u001B[0m\u001B[1;33m)\u001B[0m\u001B[1;33m\u001B[0m\u001B[1;33m\u001B[0m\u001B[0m\n\u001B[0m",
      "\u001B[1;32mc:\\users\\millet\\miniconda3\\envs\\torch1.8-gpu\\lib\\site-packages\\rqdatac\\decorators.py\u001B[0m in \u001B[0;36mwrap\u001B[1;34m(*args, **kwargs)\u001B[0m\n\u001B[0;32m    148\u001B[0m                 \u001B[1;32mif\u001B[0m \u001B[0mitem\u001B[0m \u001B[1;33m!=\u001B[0m \u001B[0mvalue\u001B[0m\u001B[1;33m:\u001B[0m\u001B[1;33m\u001B[0m\u001B[1;33m\u001B[0m\u001B[0m\n\u001B[0;32m    149\u001B[0m                     \u001B[1;32mraise\u001B[0m \u001B[0mValueError\u001B[0m\u001B[1;33m(\u001B[0m\u001B[1;34m\"'{}': except '{}', got '{}'\"\u001B[0m\u001B[1;33m.\u001B[0m\u001B[0mformat\u001B[0m\u001B[1;33m(\u001B[0m\u001B[0mname\u001B[0m\u001B[1;33m,\u001B[0m \u001B[0mvalue\u001B[0m\u001B[1;33m,\u001B[0m \u001B[0mitem\u001B[0m\u001B[1;33m)\u001B[0m\u001B[1;33m)\u001B[0m\u001B[1;33m\u001B[0m\u001B[1;33m\u001B[0m\u001B[0m\n\u001B[1;32m--> 150\u001B[1;33m         \u001B[1;32mreturn\u001B[0m \u001B[0mfunc\u001B[0m\u001B[1;33m(\u001B[0m\u001B[1;33m*\u001B[0m\u001B[0margs\u001B[0m\u001B[1;33m,\u001B[0m \u001B[1;33m**\u001B[0m\u001B[0mkwargs\u001B[0m\u001B[1;33m)\u001B[0m\u001B[1;33m\u001B[0m\u001B[1;33m\u001B[0m\u001B[0m\n\u001B[0m\u001B[0;32m    151\u001B[0m \u001B[1;33m\u001B[0m\u001B[0m\n\u001B[0;32m    152\u001B[0m     \u001B[1;32mreturn\u001B[0m \u001B[0mwrap\u001B[0m\u001B[1;33m\u001B[0m\u001B[1;33m\u001B[0m\u001B[0m\n",
      "\u001B[1;32mc:\\users\\millet\\miniconda3\\envs\\torch1.8-gpu\\lib\\site-packages\\rqdatac\\services\\get_price.py\u001B[0m in \u001B[0;36mget_price\u001B[1;34m(order_book_ids, start_date, end_date, frequency, fields, adjust_type, skip_suspended, expect_df, market, **kwargs)\u001B[0m\n\u001B[0;32m    100\u001B[0m     \u001B[1;32massert\u001B[0m \u001B[0misinstance\u001B[0m\u001B[1;33m(\u001B[0m\u001B[0mexpect_df\u001B[0m\u001B[1;33m,\u001B[0m \u001B[0mbool\u001B[0m\u001B[1;33m)\u001B[0m\u001B[1;33m,\u001B[0m \u001B[1;34m\"'expect_df' should be a bool\"\u001B[0m\u001B[1;33m\u001B[0m\u001B[1;33m\u001B[0m\u001B[0m\n\u001B[0;32m    101\u001B[0m \u001B[1;33m\u001B[0m\u001B[0m\n\u001B[1;32m--> 102\u001B[1;33m     order_book_ids, stocks, funds, indexes, futures, futures888, spots, options, convertibles, repos = classify_order_book_ids(\n\u001B[0m\u001B[0;32m    103\u001B[0m         \u001B[0morder_book_ids\u001B[0m\u001B[1;33m,\u001B[0m \u001B[0mmarket\u001B[0m\u001B[1;33m\u001B[0m\u001B[1;33m\u001B[0m\u001B[0m\n\u001B[0;32m    104\u001B[0m     )\n",
      "\u001B[1;32mc:\\users\\millet\\miniconda3\\envs\\torch1.8-gpu\\lib\\site-packages\\rqdatac\\services\\get_price.py\u001B[0m in \u001B[0;36mclassify_order_book_ids\u001B[1;34m(order_book_ids, market)\u001B[0m\n\u001B[0;32m    220\u001B[0m \u001B[1;33m\u001B[0m\u001B[0m\n\u001B[0;32m    221\u001B[0m \u001B[1;32mdef\u001B[0m \u001B[0mclassify_order_book_ids\u001B[0m\u001B[1;33m(\u001B[0m\u001B[0morder_book_ids\u001B[0m\u001B[1;33m,\u001B[0m \u001B[0mmarket\u001B[0m\u001B[1;33m)\u001B[0m\u001B[1;33m:\u001B[0m\u001B[1;33m\u001B[0m\u001B[1;33m\u001B[0m\u001B[0m\n\u001B[1;32m--> 222\u001B[1;33m     \u001B[0mins_list\u001B[0m \u001B[1;33m=\u001B[0m \u001B[0mensure_instruments\u001B[0m\u001B[1;33m(\u001B[0m\u001B[0morder_book_ids\u001B[0m\u001B[1;33m,\u001B[0m \u001B[0mmarket\u001B[0m\u001B[1;33m=\u001B[0m\u001B[0mmarket\u001B[0m\u001B[1;33m)\u001B[0m\u001B[1;33m\u001B[0m\u001B[1;33m\u001B[0m\u001B[0m\n\u001B[0m\u001B[0;32m    223\u001B[0m     \u001B[0m_order_book_ids\u001B[0m \u001B[1;33m=\u001B[0m \u001B[1;33m[\u001B[0m\u001B[1;33m]\u001B[0m\u001B[1;33m\u001B[0m\u001B[1;33m\u001B[0m\u001B[0m\n\u001B[0;32m    224\u001B[0m     \u001B[0mstocks\u001B[0m \u001B[1;33m=\u001B[0m \u001B[1;33m[\u001B[0m\u001B[1;33m]\u001B[0m\u001B[1;33m\u001B[0m\u001B[1;33m\u001B[0m\u001B[0m\n",
      "\u001B[1;32mc:\\users\\millet\\miniconda3\\envs\\torch1.8-gpu\\lib\\site-packages\\rqdatac\\validators.py\u001B[0m in \u001B[0;36mensure_instruments\u001B[1;34m(order_book_ids, type, market)\u001B[0m\n\u001B[0;32m    166\u001B[0m     \u001B[1;32mfrom\u001B[0m \u001B[0mrqdatac\u001B[0m\u001B[1;33m.\u001B[0m\u001B[0mservices\u001B[0m\u001B[1;33m.\u001B[0m\u001B[0mbasic\u001B[0m \u001B[1;32mimport\u001B[0m \u001B[0m_all_instruments_dict\u001B[0m\u001B[1;33m\u001B[0m\u001B[1;33m\u001B[0m\u001B[0m\n\u001B[0;32m    167\u001B[0m \u001B[1;33m\u001B[0m\u001B[0m\n\u001B[1;32m--> 168\u001B[1;33m     \u001B[0mall_instruments\u001B[0m \u001B[1;33m=\u001B[0m \u001B[0m_all_instruments_dict\u001B[0m\u001B[1;33m(\u001B[0m\u001B[0mmarket\u001B[0m\u001B[1;33m)\u001B[0m\u001B[1;33m\u001B[0m\u001B[1;33m\u001B[0m\u001B[0m\n\u001B[0m\u001B[0;32m    169\u001B[0m     \u001B[0mresult\u001B[0m \u001B[1;33m=\u001B[0m \u001B[1;33m[\u001B[0m\u001B[1;33m]\u001B[0m\u001B[1;33m\u001B[0m\u001B[1;33m\u001B[0m\u001B[0m\n\u001B[0;32m    170\u001B[0m     \u001B[1;32mfor\u001B[0m \u001B[0mob\u001B[0m \u001B[1;32min\u001B[0m \u001B[0mset\u001B[0m\u001B[1;33m(\u001B[0m\u001B[0morder_book_ids\u001B[0m\u001B[1;33m)\u001B[0m\u001B[1;33m:\u001B[0m\u001B[1;33m\u001B[0m\u001B[1;33m\u001B[0m\u001B[0m\n",
      "\u001B[1;32mc:\\users\\millet\\miniconda3\\envs\\torch1.8-gpu\\lib\\site-packages\\rqdatac\\decorators.py\u001B[0m in \u001B[0;36mwrapper\u001B[1;34m(*args, **kwargs)\u001B[0m\n\u001B[0;32m    127\u001B[0m             \u001B[1;32mif\u001B[0m \u001B[0mexpire_at\u001B[0m \u001B[1;33m>\u001B[0m \u001B[0mtime\u001B[0m\u001B[1;33m.\u001B[0m\u001B[0mtime\u001B[0m\u001B[1;33m(\u001B[0m\u001B[1;33m)\u001B[0m\u001B[1;33m:\u001B[0m\u001B[1;33m\u001B[0m\u001B[1;33m\u001B[0m\u001B[0m\n\u001B[0;32m    128\u001B[0m                 \u001B[1;32mreturn\u001B[0m \u001B[0mvalue\u001B[0m\u001B[1;33m\u001B[0m\u001B[1;33m\u001B[0m\u001B[0m\n\u001B[1;32m--> 129\u001B[1;33m         \u001B[0mvalue\u001B[0m \u001B[1;33m=\u001B[0m \u001B[0muser_function\u001B[0m\u001B[1;33m(\u001B[0m\u001B[1;33m*\u001B[0m\u001B[0margs\u001B[0m\u001B[1;33m,\u001B[0m \u001B[1;33m**\u001B[0m\u001B[0mkwargs\u001B[0m\u001B[1;33m)\u001B[0m\u001B[1;33m\u001B[0m\u001B[1;33m\u001B[0m\u001B[0m\n\u001B[0m\u001B[0;32m    130\u001B[0m         \u001B[0mcache\u001B[0m\u001B[1;33m[\u001B[0m\u001B[0mkey\u001B[0m\u001B[1;33m]\u001B[0m \u001B[1;33m=\u001B[0m \u001B[1;33m(\u001B[0m\u001B[0mtime\u001B[0m\u001B[1;33m.\u001B[0m\u001B[0mtime\u001B[0m\u001B[1;33m(\u001B[0m\u001B[1;33m)\u001B[0m \u001B[1;33m+\u001B[0m \u001B[0mttl\u001B[0m\u001B[1;33m,\u001B[0m \u001B[0mvalue\u001B[0m\u001B[1;33m)\u001B[0m\u001B[1;33m\u001B[0m\u001B[1;33m\u001B[0m\u001B[0m\n\u001B[0;32m    131\u001B[0m         \u001B[1;32mreturn\u001B[0m \u001B[0mvalue\u001B[0m\u001B[1;33m\u001B[0m\u001B[1;33m\u001B[0m\u001B[0m\n",
      "\u001B[1;32mc:\\users\\millet\\miniconda3\\envs\\torch1.8-gpu\\lib\\site-packages\\rqdatac\\services\\basic.py\u001B[0m in \u001B[0;36m_all_instruments_dict\u001B[1;34m(market)\u001B[0m\n\u001B[0;32m    137\u001B[0m \u001B[1;33m@\u001B[0m\u001B[0mttl_cache\u001B[0m\u001B[1;33m(\u001B[0m\u001B[1;36m3\u001B[0m \u001B[1;33m*\u001B[0m \u001B[1;36m3600\u001B[0m\u001B[1;33m)\u001B[0m\u001B[1;33m\u001B[0m\u001B[1;33m\u001B[0m\u001B[0m\n\u001B[0;32m    138\u001B[0m \u001B[1;32mdef\u001B[0m \u001B[0m_all_instruments_dict\u001B[0m\u001B[1;33m(\u001B[0m\u001B[0mmarket\u001B[0m\u001B[1;33m)\u001B[0m\u001B[1;33m:\u001B[0m\u001B[1;33m\u001B[0m\u001B[1;33m\u001B[0m\u001B[0m\n\u001B[1;32m--> 139\u001B[1;33m     \u001B[0mins\u001B[0m \u001B[1;33m=\u001B[0m \u001B[0m_all_cached_instruments_list\u001B[0m\u001B[1;33m(\u001B[0m\u001B[0mmarket\u001B[0m\u001B[1;33m)\u001B[0m\u001B[1;33m\u001B[0m\u001B[1;33m\u001B[0m\u001B[0m\n\u001B[0m\u001B[0;32m    140\u001B[0m     \u001B[0mresult\u001B[0m \u001B[1;33m=\u001B[0m \u001B[0mdict\u001B[0m\u001B[1;33m(\u001B[0m\u001B[1;33m)\u001B[0m\u001B[1;33m\u001B[0m\u001B[1;33m\u001B[0m\u001B[0m\n\u001B[0;32m    141\u001B[0m     \u001B[1;32mfor\u001B[0m \u001B[0mi\u001B[0m \u001B[1;32min\u001B[0m \u001B[0mins\u001B[0m\u001B[1;33m:\u001B[0m\u001B[1;33m\u001B[0m\u001B[1;33m\u001B[0m\u001B[0m\n",
      "\u001B[1;32mc:\\users\\millet\\miniconda3\\envs\\torch1.8-gpu\\lib\\site-packages\\rqdatac\\decorators.py\u001B[0m in \u001B[0;36mwrapper\u001B[1;34m(*args, **kwargs)\u001B[0m\n\u001B[0;32m    127\u001B[0m             \u001B[1;32mif\u001B[0m \u001B[0mexpire_at\u001B[0m \u001B[1;33m>\u001B[0m \u001B[0mtime\u001B[0m\u001B[1;33m.\u001B[0m\u001B[0mtime\u001B[0m\u001B[1;33m(\u001B[0m\u001B[1;33m)\u001B[0m\u001B[1;33m:\u001B[0m\u001B[1;33m\u001B[0m\u001B[1;33m\u001B[0m\u001B[0m\n\u001B[0;32m    128\u001B[0m                 \u001B[1;32mreturn\u001B[0m \u001B[0mvalue\u001B[0m\u001B[1;33m\u001B[0m\u001B[1;33m\u001B[0m\u001B[0m\n\u001B[1;32m--> 129\u001B[1;33m         \u001B[0mvalue\u001B[0m \u001B[1;33m=\u001B[0m \u001B[0muser_function\u001B[0m\u001B[1;33m(\u001B[0m\u001B[1;33m*\u001B[0m\u001B[0margs\u001B[0m\u001B[1;33m,\u001B[0m \u001B[1;33m**\u001B[0m\u001B[0mkwargs\u001B[0m\u001B[1;33m)\u001B[0m\u001B[1;33m\u001B[0m\u001B[1;33m\u001B[0m\u001B[0m\n\u001B[0m\u001B[0;32m    130\u001B[0m         \u001B[0mcache\u001B[0m\u001B[1;33m[\u001B[0m\u001B[0mkey\u001B[0m\u001B[1;33m]\u001B[0m \u001B[1;33m=\u001B[0m \u001B[1;33m(\u001B[0m\u001B[0mtime\u001B[0m\u001B[1;33m.\u001B[0m\u001B[0mtime\u001B[0m\u001B[1;33m(\u001B[0m\u001B[1;33m)\u001B[0m \u001B[1;33m+\u001B[0m \u001B[0mttl\u001B[0m\u001B[1;33m,\u001B[0m \u001B[0mvalue\u001B[0m\u001B[1;33m)\u001B[0m\u001B[1;33m\u001B[0m\u001B[1;33m\u001B[0m\u001B[0m\n\u001B[0;32m    131\u001B[0m         \u001B[1;32mreturn\u001B[0m \u001B[0mvalue\u001B[0m\u001B[1;33m\u001B[0m\u001B[1;33m\u001B[0m\u001B[0m\n",
      "\u001B[1;32mc:\\users\\millet\\miniconda3\\envs\\torch1.8-gpu\\lib\\site-packages\\rqdatac\\services\\basic.py\u001B[0m in \u001B[0;36m_all_cached_instruments_list\u001B[1;34m(market)\u001B[0m\n\u001B[0;32m    132\u001B[0m \u001B[1;33m@\u001B[0m\u001B[0mttl_cache\u001B[0m\u001B[1;33m(\u001B[0m\u001B[1;36m3\u001B[0m \u001B[1;33m*\u001B[0m \u001B[1;36m3600\u001B[0m\u001B[1;33m)\u001B[0m\u001B[1;33m\u001B[0m\u001B[1;33m\u001B[0m\u001B[0m\n\u001B[0;32m    133\u001B[0m \u001B[1;32mdef\u001B[0m \u001B[0m_all_cached_instruments_list\u001B[0m\u001B[1;33m(\u001B[0m\u001B[0mmarket\u001B[0m\u001B[1;33m)\u001B[0m\u001B[1;33m:\u001B[0m\u001B[1;33m\u001B[0m\u001B[1;33m\u001B[0m\u001B[0m\n\u001B[1;32m--> 134\u001B[1;33m     \u001B[1;32mreturn\u001B[0m \u001B[0m_all_instruments_list\u001B[0m\u001B[1;33m(\u001B[0m\u001B[0mmarket\u001B[0m\u001B[1;33m)\u001B[0m\u001B[1;33m\u001B[0m\u001B[1;33m\u001B[0m\u001B[0m\n\u001B[0m\u001B[0;32m    135\u001B[0m \u001B[1;33m\u001B[0m\u001B[0m\n\u001B[0;32m    136\u001B[0m \u001B[1;33m\u001B[0m\u001B[0m\n",
      "\u001B[1;32mc:\\users\\millet\\miniconda3\\envs\\torch1.8-gpu\\lib\\site-packages\\rqdatac\\services\\basic.py\u001B[0m in \u001B[0;36m_all_instruments_list\u001B[1;34m(market)\u001B[0m\n\u001B[0;32m    110\u001B[0m \u001B[1;33m\u001B[0m\u001B[0m\n\u001B[0;32m    111\u001B[0m \u001B[1;32mdef\u001B[0m \u001B[0m_all_instruments_list\u001B[0m\u001B[1;33m(\u001B[0m\u001B[0mmarket\u001B[0m\u001B[1;33m)\u001B[0m\u001B[1;33m:\u001B[0m\u001B[1;33m\u001B[0m\u001B[1;33m\u001B[0m\u001B[0m\n\u001B[1;32m--> 112\u001B[1;33m     \u001B[0mins\u001B[0m \u001B[1;33m=\u001B[0m \u001B[1;33m[\u001B[0m\u001B[0mInstrument\u001B[0m\u001B[1;33m(\u001B[0m\u001B[0mi\u001B[0m\u001B[1;33m)\u001B[0m \u001B[1;32mfor\u001B[0m \u001B[0mi\u001B[0m \u001B[1;32min\u001B[0m \u001B[0mget_client\u001B[0m\u001B[1;33m(\u001B[0m\u001B[1;33m)\u001B[0m\u001B[1;33m.\u001B[0m\u001B[0mexecute\u001B[0m\u001B[1;33m(\u001B[0m\u001B[1;34m\"all_instruments\"\u001B[0m\u001B[1;33m,\u001B[0m \u001B[0mmarket\u001B[0m\u001B[1;33m=\u001B[0m\u001B[0mmarket\u001B[0m\u001B[1;33m)\u001B[0m\u001B[1;33m]\u001B[0m\u001B[1;33m\u001B[0m\u001B[1;33m\u001B[0m\u001B[0m\n\u001B[0m\u001B[0;32m    113\u001B[0m \u001B[1;33m\u001B[0m\u001B[0m\n\u001B[0;32m    114\u001B[0m     \u001B[0mextra_hk_instruments\u001B[0m \u001B[1;33m=\u001B[0m \u001B[1;33m[\u001B[0m\u001B[1;33m]\u001B[0m\u001B[1;33m\u001B[0m\u001B[1;33m\u001B[0m\u001B[0m\n",
      "\u001B[1;32mc:\\users\\millet\\miniconda3\\envs\\torch1.8-gpu\\lib\\site-packages\\rqdatac\\decorators.py\u001B[0m in \u001B[0;36mwrap\u001B[1;34m(*args, **kwargs)\u001B[0m\n\u001B[0;32m     65\u001B[0m             \u001B[1;32mwhile\u001B[0m \u001B[0mc\u001B[0m \u001B[1;33m>\u001B[0m \u001B[1;36m0\u001B[0m\u001B[1;33m:\u001B[0m\u001B[1;33m\u001B[0m\u001B[1;33m\u001B[0m\u001B[0m\n\u001B[0;32m     66\u001B[0m                 \u001B[1;32mtry\u001B[0m\u001B[1;33m:\u001B[0m\u001B[1;33m\u001B[0m\u001B[1;33m\u001B[0m\u001B[0m\n\u001B[1;32m---> 67\u001B[1;33m                     \u001B[1;32mreturn\u001B[0m \u001B[0mfunc\u001B[0m\u001B[1;33m(\u001B[0m\u001B[1;33m*\u001B[0m\u001B[0margs\u001B[0m\u001B[1;33m,\u001B[0m \u001B[1;33m**\u001B[0m\u001B[0mkwargs\u001B[0m\u001B[1;33m)\u001B[0m\u001B[1;33m\u001B[0m\u001B[1;33m\u001B[0m\u001B[0m\n\u001B[0m\u001B[0;32m     68\u001B[0m                 \u001B[1;32mexcept\u001B[0m \u001B[0msuppress_exceptions\u001B[0m \u001B[1;32mas\u001B[0m \u001B[0me\u001B[0m\u001B[1;33m:\u001B[0m\u001B[1;33m\u001B[0m\u001B[1;33m\u001B[0m\u001B[0m\n\u001B[0;32m     69\u001B[0m                     \u001B[0mc\u001B[0m \u001B[1;33m-=\u001B[0m \u001B[1;36m1\u001B[0m\u001B[1;33m\u001B[0m\u001B[1;33m\u001B[0m\u001B[0m\n",
      "\u001B[1;32mc:\\users\\millet\\miniconda3\\envs\\torch1.8-gpu\\lib\\site-packages\\rqdatac\\thread_local.py\u001B[0m in \u001B[0;36mexecute\u001B[1;34m(self, method, *args, **kwargs)\u001B[0m\n\u001B[0;32m     40\u001B[0m     \u001B[1;33m@\u001B[0m\u001B[0mretry\u001B[0m\u001B[1;33m(\u001B[0m\u001B[1;36m3\u001B[0m\u001B[1;33m,\u001B[0m \u001B[0msuppress_exceptions\u001B[0m\u001B[1;33m=\u001B[0m\u001B[1;33m(\u001B[0m\u001B[0mconnection_error\u001B[0m\u001B[1;33m,\u001B[0m \u001B[0mGatewayError\u001B[0m\u001B[1;33m,\u001B[0m \u001B[0mtimeout_error\u001B[0m\u001B[1;33m,\u001B[0m \u001B[0msocket\u001B[0m\u001B[1;33m.\u001B[0m\u001B[0mtimeout\u001B[0m\u001B[1;33m)\u001B[0m\u001B[1;33m)\u001B[0m\u001B[1;33m\u001B[0m\u001B[1;33m\u001B[0m\u001B[0m\n\u001B[0;32m     41\u001B[0m     \u001B[1;32mdef\u001B[0m \u001B[0mexecute\u001B[0m\u001B[1;33m(\u001B[0m\u001B[0mself\u001B[0m\u001B[1;33m,\u001B[0m \u001B[0mmethod\u001B[0m\u001B[1;33m,\u001B[0m \u001B[1;33m*\u001B[0m\u001B[0margs\u001B[0m\u001B[1;33m,\u001B[0m \u001B[1;33m**\u001B[0m\u001B[0mkwargs\u001B[0m\u001B[1;33m)\u001B[0m\u001B[1;33m:\u001B[0m\u001B[1;33m\u001B[0m\u001B[1;33m\u001B[0m\u001B[0m\n\u001B[1;32m---> 42\u001B[1;33m         \u001B[1;32mreturn\u001B[0m \u001B[0mself\u001B[0m\u001B[1;33m.\u001B[0m\u001B[0m_execute\u001B[0m\u001B[1;33m(\u001B[0m\u001B[0mself\u001B[0m\u001B[1;33m.\u001B[0m\u001B[0m_get_connection\u001B[0m\u001B[1;33m(\u001B[0m\u001B[1;33m)\u001B[0m\u001B[1;33m,\u001B[0m \u001B[0mmethod\u001B[0m\u001B[1;33m,\u001B[0m \u001B[0margs\u001B[0m\u001B[1;33m,\u001B[0m \u001B[0mkwargs\u001B[0m\u001B[1;33m)\u001B[0m\u001B[1;33m\u001B[0m\u001B[1;33m\u001B[0m\u001B[0m\n\u001B[0m\u001B[0;32m     43\u001B[0m \u001B[1;33m\u001B[0m\u001B[0m\n\u001B[0;32m     44\u001B[0m     \u001B[1;33m@\u001B[0m\u001B[0mretry\u001B[0m\u001B[1;33m(\u001B[0m\u001B[1;36m3\u001B[0m\u001B[1;33m,\u001B[0m \u001B[0msuppress_exceptions\u001B[0m\u001B[1;33m=\u001B[0m\u001B[1;33m(\u001B[0m\u001B[0mconnection_error\u001B[0m\u001B[1;33m,\u001B[0m \u001B[0mGatewayError\u001B[0m\u001B[1;33m)\u001B[0m\u001B[1;33m)\u001B[0m\u001B[1;33m\u001B[0m\u001B[1;33m\u001B[0m\u001B[0m\n",
      "\u001B[1;32mc:\\users\\millet\\miniconda3\\envs\\torch1.8-gpu\\lib\\site-packages\\rqdatac\\thread_local.py\u001B[0m in \u001B[0;36m_get_connection\u001B[1;34m(self)\u001B[0m\n\u001B[0;32m     26\u001B[0m         \u001B[0ms\u001B[0m \u001B[1;33m=\u001B[0m \u001B[0mConnection\u001B[0m\u001B[1;33m.\u001B[0m\u001B[0msock_factory\u001B[0m\u001B[1;33m(\u001B[0m\u001B[0mself\u001B[0m\u001B[1;33m.\u001B[0m\u001B[0m_addr\u001B[0m\u001B[1;33m,\u001B[0m \u001B[0mtimeout\u001B[0m\u001B[1;33m=\u001B[0m\u001B[0mself\u001B[0m\u001B[1;33m.\u001B[0m\u001B[0m_connect_timeout\u001B[0m\u001B[1;33m)\u001B[0m\u001B[1;33m\u001B[0m\u001B[1;33m\u001B[0m\u001B[0m\n\u001B[0;32m     27\u001B[0m         \u001B[0ms\u001B[0m\u001B[1;33m.\u001B[0m\u001B[0msettimeout\u001B[0m\u001B[1;33m(\u001B[0m\u001B[0mself\u001B[0m\u001B[1;33m.\u001B[0m\u001B[0m_timeout\u001B[0m\u001B[1;33m)\u001B[0m\u001B[1;33m\u001B[0m\u001B[1;33m\u001B[0m\u001B[0m\n\u001B[1;32m---> 28\u001B[1;33m         \u001B[0mself\u001B[0m\u001B[1;33m.\u001B[0m\u001B[0m_local\u001B[0m\u001B[1;33m.\u001B[0m\u001B[0mconnection\u001B[0m \u001B[1;33m=\u001B[0m \u001B[0mConnection\u001B[0m\u001B[1;33m(\u001B[0m\u001B[0ms\u001B[0m\u001B[1;33m,\u001B[0m \u001B[0mself\u001B[0m\u001B[1;33m.\u001B[0m\u001B[0m_auth\u001B[0m\u001B[1;33m)\u001B[0m\u001B[1;33m\u001B[0m\u001B[1;33m\u001B[0m\u001B[0m\n\u001B[0m\u001B[0;32m     29\u001B[0m         \u001B[1;32mreturn\u001B[0m \u001B[0mself\u001B[0m\u001B[1;33m.\u001B[0m\u001B[0m_local\u001B[0m\u001B[1;33m.\u001B[0m\u001B[0mconnection\u001B[0m\u001B[1;33m\u001B[0m\u001B[1;33m\u001B[0m\u001B[0m\n\u001B[0;32m     30\u001B[0m \u001B[1;33m\u001B[0m\u001B[0m\n",
      "\u001B[1;32mc:\\users\\millet\\miniconda3\\envs\\torch1.8-gpu\\lib\\site-packages\\rqdatac\\connection.py\u001B[0m in \u001B[0;36m__init__\u001B[1;34m(self, sock, auth)\u001B[0m\n\u001B[0;32m     52\u001B[0m         \u001B[0mself\u001B[0m\u001B[1;33m.\u001B[0m\u001B[0m_auth_info\u001B[0m \u001B[1;33m=\u001B[0m \u001B[0mauth\u001B[0m\u001B[1;33m.\u001B[0m\u001B[0mcopy\u001B[0m\u001B[1;33m(\u001B[0m\u001B[1;33m)\u001B[0m\u001B[1;33m\u001B[0m\u001B[1;33m\u001B[0m\u001B[0m\n\u001B[0;32m     53\u001B[0m         \u001B[0mself\u001B[0m\u001B[1;33m.\u001B[0m\u001B[0m_auth_info\u001B[0m\u001B[1;33m[\u001B[0m\u001B[1;34m\"node\"\u001B[0m\u001B[1;33m]\u001B[0m \u001B[1;33m=\u001B[0m \u001B[0mself\u001B[0m\u001B[1;33m.\u001B[0m\u001B[0m_socket\u001B[0m\u001B[1;33m.\u001B[0m\u001B[0mgetsockname\u001B[0m\u001B[1;33m(\u001B[0m\u001B[1;33m)\u001B[0m\u001B[1;33m[\u001B[0m\u001B[1;36m0\u001B[0m\u001B[1;33m]\u001B[0m\u001B[1;33m\u001B[0m\u001B[1;33m\u001B[0m\u001B[0m\n\u001B[1;32m---> 54\u001B[1;33m         \u001B[0mself\u001B[0m\u001B[1;33m.\u001B[0m\u001B[0m_do_auth\u001B[0m\u001B[1;33m(\u001B[0m\u001B[0mself\u001B[0m\u001B[1;33m.\u001B[0m\u001B[0m_auth_info\u001B[0m\u001B[1;33m)\u001B[0m\u001B[1;33m\u001B[0m\u001B[1;33m\u001B[0m\u001B[0m\n\u001B[0m\u001B[0;32m     55\u001B[0m \u001B[1;33m\u001B[0m\u001B[0m\n\u001B[0;32m     56\u001B[0m     \u001B[1;32mdef\u001B[0m \u001B[0mset_timeout\u001B[0m\u001B[1;33m(\u001B[0m\u001B[0mself\u001B[0m\u001B[1;33m,\u001B[0m \u001B[0mtimeout\u001B[0m\u001B[1;33m)\u001B[0m\u001B[1;33m:\u001B[0m\u001B[1;33m\u001B[0m\u001B[1;33m\u001B[0m\u001B[0m\n",
      "\u001B[1;32mc:\\users\\millet\\miniconda3\\envs\\torch1.8-gpu\\lib\\site-packages\\rqdatac\\connection.py\u001B[0m in \u001B[0;36m_do_auth\u001B[1;34m(self, auth)\u001B[0m\n\u001B[0;32m     95\u001B[0m         )\n\u001B[0;32m     96\u001B[0m         \u001B[0mself\u001B[0m\u001B[1;33m.\u001B[0m\u001B[0m_socket\u001B[0m\u001B[1;33m.\u001B[0m\u001B[0msendall\u001B[0m\u001B[1;33m(\u001B[0m\u001B[0mauth_body\u001B[0m\u001B[1;33m)\u001B[0m\u001B[1;33m\u001B[0m\u001B[1;33m\u001B[0m\u001B[0m\n\u001B[1;32m---> 97\u001B[1;33m         \u001B[0mmsg_type\u001B[0m\u001B[1;33m,\u001B[0m \u001B[0mbody\u001B[0m \u001B[1;33m=\u001B[0m \u001B[0mself\u001B[0m\u001B[1;33m.\u001B[0m\u001B[0m_read_one_packet\u001B[0m\u001B[1;33m(\u001B[0m\u001B[1;33m)\u001B[0m\u001B[1;33m\u001B[0m\u001B[1;33m\u001B[0m\u001B[0m\n\u001B[0m\u001B[0;32m     98\u001B[0m         \u001B[1;32mif\u001B[0m \u001B[0mmsg_type\u001B[0m \u001B[1;33m!=\u001B[0m \u001B[0mMSG_TYPE\u001B[0m\u001B[1;33m.\u001B[0m\u001B[0mHANDSHAKE\u001B[0m\u001B[1;33m:\u001B[0m\u001B[1;33m\u001B[0m\u001B[1;33m\u001B[0m\u001B[0m\n\u001B[0;32m     99\u001B[0m             raise ProtocolError(\n",
      "\u001B[1;32mc:\\users\\millet\\miniconda3\\envs\\torch1.8-gpu\\lib\\site-packages\\rqdatac\\connection.py\u001B[0m in \u001B[0;36m_read_one_packet\u001B[1;34m(self)\u001B[0m\n\u001B[0;32m     85\u001B[0m             \u001B[1;32mif\u001B[0m \u001B[0mmt\u001B[0m \u001B[1;33m==\u001B[0m \u001B[0mMSG_TYPE\u001B[0m\u001B[1;33m.\u001B[0m\u001B[0mERROR\u001B[0m\u001B[1;33m:\u001B[0m\u001B[1;33m\u001B[0m\u001B[1;33m\u001B[0m\u001B[0m\n\u001B[0;32m     86\u001B[0m                 \u001B[0mcode\u001B[0m\u001B[1;33m,\u001B[0m \u001B[0mmsg\u001B[0m \u001B[1;33m=\u001B[0m \u001B[0mbody\u001B[0m\u001B[1;33m\u001B[0m\u001B[1;33m\u001B[0m\u001B[0m\n\u001B[1;32m---> 87\u001B[1;33m                 \u001B[1;32mraise\u001B[0m \u001B[0mget_error\u001B[0m\u001B[1;33m(\u001B[0m\u001B[0mcode\u001B[0m\u001B[1;33m)\u001B[0m\u001B[1;33m(\u001B[0m\u001B[0mmsg\u001B[0m\u001B[1;33m)\u001B[0m\u001B[1;33m\u001B[0m\u001B[1;33m\u001B[0m\u001B[0m\n\u001B[0m\u001B[0;32m     88\u001B[0m             \u001B[1;32mreturn\u001B[0m \u001B[0mmt\u001B[0m\u001B[1;33m,\u001B[0m \u001B[0mbody\u001B[0m\u001B[1;33m\u001B[0m\u001B[1;33m\u001B[0m\u001B[0m\n\u001B[0;32m     89\u001B[0m \u001B[1;33m\u001B[0m\u001B[0m\n",
      "\u001B[1;31mPermissionDenied\u001B[0m: this license is only allowed to access through the education network"
     ]
    }
   ],
   "source": [
    "from rqdatac import get_price\n",
    "import rqdatac\n",
    "\n",
    "rqdatac.init()\n",
    "hs300_df = get_price(order_book_ids='000300.XSHG', start_date='2022-01-01', end_date='2022-03-22', fields='close')"
   ],
   "metadata": {
    "collapsed": false,
    "pycharm": {
     "name": "#%%\n"
    }
   }
  },
  {
   "cell_type": "code",
   "execution_count": null,
   "outputs": [],
   "source": [
    "hs300 = hs300_df.reset_index(level='order_book_id').drop(labels='order_book_id', axis=1)\n",
    "hs300.rolling(5).mean().plot(grid=True)"
   ],
   "metadata": {
    "collapsed": false,
    "pycharm": {
     "name": "#%%\n"
    }
   }
  },
  {
   "cell_type": "markdown",
   "source": [
    "## 测试模型预测"
   ],
   "metadata": {
    "collapsed": false
   }
  },
  {
   "cell_type": "code",
   "execution_count": null,
   "outputs": [],
   "source": [
    "import torch\n",
    "from my_utils.model_class import MLP\n",
    "\n",
    "model = MLP(in_nums=22, out_nums=2, drop_p=0.5)\n",
    "model.load_state_dict(torch.load('models/model_c2_p[[0.0, 0.3], [0.7, 1.0]]_b32_lr0.001_d0.5_e500.pth', map_location=para.device))\n",
    "model = model.to(para.device)\n",
    "\n",
    "model.eval()\n",
    "a = model(torch.Tensor([[0.5]*22]*4).to(device=para.device))\n",
    "a"
   ],
   "metadata": {
    "collapsed": false,
    "pycharm": {
     "name": "#%%\n"
    }
   }
  }
 ],
 "metadata": {
  "kernelspec": {
   "display_name": "Python 3",
   "language": "python",
   "name": "python3"
  },
  "language_info": {
   "codemirror_mode": {
    "name": "ipython",
    "version": 2
   },
   "file_extension": ".py",
   "mimetype": "text/x-python",
   "name": "python",
   "nbconvert_exporter": "python",
   "pygments_lexer": "ipython2",
   "version": "2.7.6"
  }
 },
 "nbformat": 4,
 "nbformat_minor": 0
}